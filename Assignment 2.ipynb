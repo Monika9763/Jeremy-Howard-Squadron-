{
  "nbformat": 4,
  "nbformat_minor": 0,
  "metadata": {
    "colab": {
      "provenance": [],
      "authorship_tag": "ABX9TyO9g1f+ZgA5vFmhQ3i7wXra",
      "include_colab_link": true
    },
    "kernelspec": {
      "name": "python3",
      "display_name": "Python 3"
    },
    "language_info": {
      "name": "python"
    }
  },
  "cells": [
    {
      "cell_type": "markdown",
      "metadata": {
        "id": "view-in-github",
        "colab_type": "text"
      },
      "source": [
        "<a href=\"https://colab.research.google.com/github/Monika9763/Jeremy-Howard-Squadron-/blob/main/Assignment%202.ipynb\" target=\"_parent\"><img src=\"https://colab.research.google.com/assets/colab-badge.svg\" alt=\"Open In Colab\"/></a>"
      ]
    },
    {
      "cell_type": "markdown",
      "source": [
        "### problem 1\n",
        "##### store the given sentence in a variable"
      ],
      "metadata": {
        "id": "E5WrxUexVLqy"
      }
    },
    {
      "cell_type": "code",
      "source": [
        "sentence = \"Wikipedia is a free online encyclopedia, created and edited by volunteers around the world\"\n"
      ],
      "metadata": {
        "id": "XpMw1nN2VW79"
      },
      "execution_count": null,
      "outputs": []
    },
    {
      "cell_type": "markdown",
      "source": [
        "##### calculate the total number of words in the sentence."
      ],
      "metadata": {
        "id": "P8NF5ZziVuqq"
      }
    },
    {
      "cell_type": "code",
      "execution_count": null,
      "metadata": {
        "id": "2kFs4VZzVGr-"
      },
      "outputs": [],
      "source": [
        "num_of_words = len(sentence.split())\n",
        "\n"
      ]
    },
    {
      "cell_type": "markdown",
      "source": [
        "##### print the variable num_of_words"
      ],
      "metadata": {
        "id": "FdOc3JLOWWi6"
      }
    },
    {
      "cell_type": "code",
      "source": [
        "print(num_of_words)"
      ],
      "metadata": {
        "colab": {
          "base_uri": "https://localhost:8080/"
        },
        "id": "Q11_4ImaWhg0",
        "outputId": "0fda54d9-dd9f-4154-f6c1-cde1ec37e69a"
      },
      "execution_count": null,
      "outputs": [
        {
          "output_type": "stream",
          "name": "stdout",
          "text": [
            "14\n"
          ]
        }
      ]
    },
    {
      "cell_type": "markdown",
      "source": [
        "### problem 2\n",
        "store the user input in a variable"
      ],
      "metadata": {
        "id": "AmvClZIEWr1x"
      }
    },
    {
      "cell_type": "code",
      "source": [
        "inputted_number = int(input())\n"
      ],
      "metadata": {
        "colab": {
          "base_uri": "https://localhost:8080/"
        },
        "id": "kPeDdb8sW6Kw",
        "outputId": "74a36bcd-de5e-4674-e0d7-62bfd30f71f6"
      },
      "execution_count": null,
      "outputs": [
        {
          "name": "stdout",
          "output_type": "stream",
          "text": [
            "6\n"
          ]
        }
      ]
    },
    {
      "cell_type": "markdown",
      "source": [
        "##### create a string of equivalent number of hypens"
      ],
      "metadata": {
        "id": "4lsYl4MMXFLC"
      }
    },
    {
      "cell_type": "code",
      "source": [
        "string_of_hypens = '-'* inputted_number"
      ],
      "metadata": {
        "id": "EBJJ_aUrXNR0"
      },
      "execution_count": null,
      "outputs": []
    },
    {
      "cell_type": "markdown",
      "source": [
        "##### print the string of hypens"
      ],
      "metadata": {
        "id": "AgtdUmyjXjNR"
      }
    },
    {
      "cell_type": "code",
      "source": [
        "print(string_of_hypens)"
      ],
      "metadata": {
        "colab": {
          "base_uri": "https://localhost:8080/"
        },
        "id": "VhG9lch0XpIM",
        "outputId": "be403f24-751c-40bb-e369-ada1c985ef36"
      },
      "execution_count": null,
      "outputs": [
        {
          "output_type": "stream",
          "name": "stdout",
          "text": [
            "------\n"
          ]
        }
      ]
    },
    {
      "cell_type": "markdown",
      "source": [
        "### problem 3\n",
        "#### store the user input in a variable"
      ],
      "metadata": {
        "id": "U8UqolLHXy07"
      }
    },
    {
      "cell_type": "code",
      "source": [
        "bridge = input()\n"
      ],
      "metadata": {
        "colab": {
          "base_uri": "https://localhost:8080/"
        },
        "id": "zmT0m--aX6Qe",
        "outputId": "6efdce3b-8e1f-459a-f2ef-a4e103c0879e"
      },
      "execution_count": null,
      "outputs": [
        {
          "name": "stdout",
          "output_type": "stream",
          "text": [
            "mona\n"
          ]
        }
      ]
    },
    {
      "cell_type": "markdown",
      "source": [
        "##### return true if the bridge is safe and false if teh bridge is not safe"
      ],
      "metadata": {
        "id": "jdIQTtGWX_2k"
      }
    },
    {
      "cell_type": "code",
      "source": [
        "is_safe_bridge = bridge.find('mona')!=-1"
      ],
      "metadata": {
        "id": "uOryDp3xYSOj"
      },
      "execution_count": null,
      "outputs": []
    },
    {
      "cell_type": "markdown",
      "source": [
        "##### fill in the blanks"
      ],
      "metadata": {
        "id": "SDk39CXyYtMs"
      }
    },
    {
      "cell_type": "code",
      "source": [
        "print(f\"it is {is_safe_bridge} that the bridge is a safe bridge\")"
      ],
      "metadata": {
        "colab": {
          "base_uri": "https://localhost:8080/"
        },
        "id": "tjXI7ls8Y0VZ",
        "outputId": "b6949a8f-e7e3-404d-cbcb-1e6ccf5a5925"
      },
      "execution_count": null,
      "outputs": [
        {
          "output_type": "stream",
          "name": "stdout",
          "text": [
            "it is True that the bridge is a safe bridge\n"
          ]
        }
      ]
    },
    {
      "cell_type": "markdown",
      "source": [
        "#### problem 4\n",
        "store the user input in a variable"
      ],
      "metadata": {
        "id": "y844LWt4aROA"
      }
    },
    {
      "cell_type": "code",
      "source": [
        "user_string = 'Debris was scattered all over the yard in the densest region of denmark'"
      ],
      "metadata": {
        "id": "ynJ9tTWHaZrS"
      },
      "execution_count": 38,
      "outputs": []
    },
    {
      "cell_type": "code",
      "source": [
        "D_counts = user_string.lower().count('d')\n",
        "print(f\"The total occurances of the D in the user_string is {D_counts}\")"
      ],
      "metadata": {
        "colab": {
          "base_uri": "https://localhost:8080/"
        },
        "id": "_x1lkxToknnr",
        "outputId": "cdc1719f-aea0-42cf-a873-e431a6a02b63"
      },
      "execution_count": 40,
      "outputs": [
        {
          "output_type": "stream",
          "name": "stdout",
          "text": [
            "The total occurances of the D in the user_string is 5\n"
          ]
        }
      ]
    },
    {
      "cell_type": "markdown",
      "source": [
        "#### problem 5\n",
        "##### store the user input in a variable"
      ],
      "metadata": {
        "id": "TF5b7FfqlPnR"
      }
    },
    {
      "cell_type": "code",
      "source": [
        "user_string = input()\n"
      ],
      "metadata": {
        "colab": {
          "base_uri": "https://localhost:8080/"
        },
        "id": "BxT_j6Q4lXaA",
        "outputId": "ab3ec7d5-b9b8-4811-d0ee-15c0c04eaee7"
      },
      "execution_count": 41,
      "outputs": [
        {
          "name": "stdout",
          "output_type": "stream",
          "text": [
            "mona\n"
          ]
        }
      ]
    },
    {
      "cell_type": "markdown",
      "source": [
        "##### print true if a string is palindrome else print false"
      ],
      "metadata": {
        "id": "ePin9YPTllBZ"
      }
    },
    {
      "cell_type": "code",
      "source": [
        "is_palindrome = user_string == user_string[::-1]\n",
        "print(is_palindrome)"
      ],
      "metadata": {
        "colab": {
          "base_uri": "https://localhost:8080/"
        },
        "id": "sh5Krd4bltPM",
        "outputId": "8cab0300-274d-4e3d-ca57-f117a10375bc"
      },
      "execution_count": 42,
      "outputs": [
        {
          "output_type": "stream",
          "name": "stdout",
          "text": [
            "False\n"
          ]
        }
      ]
    }
  ]
}