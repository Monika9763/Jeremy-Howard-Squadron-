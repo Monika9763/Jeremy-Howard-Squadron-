{
  "nbformat": 4,
  "nbformat_minor": 0,
  "metadata": {
    "colab": {
      "provenance": [],
      "authorship_tag": "ABX9TyPWhKPgegZOVR1VxQlbEr9S",
      "include_colab_link": true
    },
    "kernelspec": {
      "name": "python3",
      "display_name": "Python 3"
    },
    "language_info": {
      "name": "python"
    }
  },
  "cells": [
    {
      "cell_type": "markdown",
      "metadata": {
        "id": "view-in-github",
        "colab_type": "text"
      },
      "source": [
        "<a href=\"https://colab.research.google.com/github/Monika9763/Jeremy-Howard-Squadron-/blob/main/Assignment_1.ipynb\" target=\"_parent\"><img src=\"https://colab.research.google.com/assets/colab-badge.svg\" alt=\"Open In Colab\"/></a>"
      ]
    },
    {
      "cell_type": "markdown",
      "source": [
        "# problem 1"
      ],
      "metadata": {
        "id": "wmrnTdW_UPZE"
      }
    },
    {
      "cell_type": "markdown",
      "source": [
        "### The outcome variables are defined below"
      ],
      "metadata": {
        "id": "GdjiINCqUF3m"
      }
    },
    {
      "cell_type": "code",
      "source": [
        "wins=4\n",
        "losses=3\n",
        "draws=1"
      ],
      "metadata": {
        "id": "EMJwh_BqUI58"
      },
      "execution_count": 1,
      "outputs": []
    },
    {
      "cell_type": "markdown",
      "source": [
        "### Calculate the total points gained by Team Aravali\n"
      ],
      "metadata": {
        "id": "75LjfJcJVF0c"
      }
    },
    {
      "cell_type": "code",
      "source": [
        "aravali_points= 4*3+3*0+1*1"
      ],
      "metadata": {
        "id": "qC66R92OVI4P"
      },
      "execution_count": 2,
      "outputs": []
    },
    {
      "cell_type": "markdown",
      "source": [
        "### Print the variable aravali_points"
      ],
      "metadata": {
        "id": "wjk_L8rlVW4D"
      }
    },
    {
      "cell_type": "code",
      "source": [
        "print(aravali_points)"
      ],
      "metadata": {
        "colab": {
          "base_uri": "https://localhost:8080/"
        },
        "id": "Ynb9d_5_VZdF",
        "outputId": "74937e48-8a7a-47b4-9733-b7e9ad6c2773"
      },
      "execution_count": 3,
      "outputs": [
        {
          "output_type": "stream",
          "name": "stdout",
          "text": [
            "13\n"
          ]
        }
      ]
    },
    {
      "cell_type": "markdown",
      "source": [
        "# Problem 3"
      ],
      "metadata": {
        "id": "R7jk3weCVhYb"
      }
    },
    {
      "cell_type": "markdown",
      "source": [
        "### Calculate the percentage of apples and print the variable"
      ],
      "metadata": {
        "id": "NNU93oxnVjdn"
      }
    },
    {
      "cell_type": "code",
      "source": [
        "percentage_apples=45*100/( 45+ 65+ 30)\n",
        "print(percentage_apples)"
      ],
      "metadata": {
        "colab": {
          "base_uri": "https://localhost:8080/"
        },
        "id": "7zIkJFqIVpih",
        "outputId": "261097f2-d6c6-40f9-d997-4fd93f13e6cc"
      },
      "execution_count": 4,
      "outputs": [
        {
          "output_type": "stream",
          "name": "stdout",
          "text": [
            "32.142857142857146\n"
          ]
        }
      ]
    },
    {
      "cell_type": "markdown",
      "source": [
        "### Calculate the percentage of oranges and print the variable\n",
        "\n"
      ],
      "metadata": {
        "id": "KfERG02TVyoi"
      }
    },
    {
      "cell_type": "code",
      "source": [
        "percentage_oranges=65*100/(45+65+30)\n",
        "print(percentage_oranges)"
      ],
      "metadata": {
        "colab": {
          "base_uri": "https://localhost:8080/"
        },
        "id": "GhsK7pAtV17l",
        "outputId": "d011b0bd-03d8-4c69-ea01-b64535680147"
      },
      "execution_count": 5,
      "outputs": [
        {
          "output_type": "stream",
          "name": "stdout",
          "text": [
            "46.42857142857143\n"
          ]
        }
      ]
    },
    {
      "cell_type": "markdown",
      "source": [
        "### Calculate the percentage of bananas and print the variable"
      ],
      "metadata": {
        "id": "TDKb1sWHV6Yt"
      }
    },
    {
      "cell_type": "code",
      "source": [
        "percentage_bananas=30*100/(45+65+30)\n",
        "print(percentage_bananas)"
      ],
      "metadata": {
        "colab": {
          "base_uri": "https://localhost:8080/"
        },
        "id": "liRmOWh2V-6S",
        "outputId": "2eda9910-9fd9-43d9-c275-667c0afe42c4"
      },
      "execution_count": 6,
      "outputs": [
        {
          "output_type": "stream",
          "name": "stdout",
          "text": [
            "21.428571428571427\n"
          ]
        }
      ]
    },
    {
      "cell_type": "markdown",
      "source": [
        "# Problem 4"
      ],
      "metadata": {
        "id": "gTOA-ksEWCye"
      }
    },
    {
      "cell_type": "markdown",
      "source": [
        "### store the number of Maths majors, Economics majors and physics majors\n",
        "\n"
      ],
      "metadata": {
        "id": "Rwx4s64qWIFP"
      }
    },
    {
      "cell_type": "code",
      "source": [
        "maths_majors=30"
      ],
      "metadata": {
        "id": "2qj9maxDWN-A"
      },
      "execution_count": 8,
      "outputs": []
    },
    {
      "cell_type": "code",
      "source": [
        "Economics_majors=45"
      ],
      "metadata": {
        "id": "6bRM8LFaWTfy"
      },
      "execution_count": 7,
      "outputs": []
    },
    {
      "cell_type": "code",
      "source": [
        "physics_majors=25"
      ],
      "metadata": {
        "id": "hn8hkC4iWeGk"
      },
      "execution_count": 9,
      "outputs": []
    },
    {
      "cell_type": "markdown",
      "source": [
        "### store the number of your correct guesses of maths majors,Economics majors and physics majors\n"
      ],
      "metadata": {
        "id": "GweaDmZJWhot"
      }
    },
    {
      "cell_type": "code",
      "source": [
        "correct_guesses_of_math_majors=20"
      ],
      "metadata": {
        "id": "xlrWDS1KWmT3"
      },
      "execution_count": 10,
      "outputs": []
    },
    {
      "cell_type": "code",
      "source": [
        "correct_guesses_of_Economics_majors=30"
      ],
      "metadata": {
        "id": "V39TiX3mWqdw"
      },
      "execution_count": 11,
      "outputs": []
    },
    {
      "cell_type": "code",
      "source": [
        "correct_guesses_of_physics_majors=20"
      ],
      "metadata": {
        "id": "qsyI60OlWxRE"
      },
      "execution_count": 12,
      "outputs": []
    },
    {
      "cell_type": "markdown",
      "source": [
        "### Calculate your accuracy in each of the three words\n",
        "Print the Math, Economics and physics accuracy"
      ],
      "metadata": {
        "id": "50eTFUczW0KB"
      }
    },
    {
      "cell_type": "code",
      "source": [
        "Maths_accuracy=20*100/maths_majors\n",
        "print(Maths_accuracy)"
      ],
      "metadata": {
        "colab": {
          "base_uri": "https://localhost:8080/"
        },
        "id": "PY-MzMU1W86M",
        "outputId": "2b85e65c-5ca8-43cf-f6f8-41efb1e350eb"
      },
      "execution_count": 13,
      "outputs": [
        {
          "output_type": "stream",
          "name": "stdout",
          "text": [
            "66.66666666666667\n"
          ]
        }
      ]
    },
    {
      "cell_type": "code",
      "source": [
        "Economics_accuracy=30*100/Economics_majors\n",
        "print(Economics_accuracy)"
      ],
      "metadata": {
        "colab": {
          "base_uri": "https://localhost:8080/"
        },
        "id": "jT70mGz5XGYq",
        "outputId": "f1538c53-2c7f-44b0-f191-e704ce09c60d"
      },
      "execution_count": 14,
      "outputs": [
        {
          "output_type": "stream",
          "name": "stdout",
          "text": [
            "66.66666666666667\n"
          ]
        }
      ]
    },
    {
      "cell_type": "code",
      "source": [
        "physics_accuracy=20*100/physics_majors\n",
        "print(physics_accuracy)"
      ],
      "metadata": {
        "colab": {
          "base_uri": "https://localhost:8080/"
        },
        "id": "6Z5LLk2YXNcm",
        "outputId": "6f6330fb-7b12-4235-cb9b-6c5087fa6b16"
      },
      "execution_count": 15,
      "outputs": [
        {
          "output_type": "stream",
          "name": "stdout",
          "text": [
            "80.0\n"
          ]
        }
      ]
    },
    {
      "cell_type": "markdown",
      "source": [
        "### Calculate the overall accuracy in the entire game\n"
      ],
      "metadata": {
        "id": "cujCV1qeXTyO"
      }
    },
    {
      "cell_type": "code",
      "source": [
        "overall_accuracy=20+30+20*100/30+45+25\n",
        "print(overall_accuracy)"
      ],
      "metadata": {
        "colab": {
          "base_uri": "https://localhost:8080/"
        },
        "id": "AIFWN4RXXYC4",
        "outputId": "9dba1f4a-9748-477c-9326-518c84afbbdf"
      },
      "execution_count": 16,
      "outputs": [
        {
          "output_type": "stream",
          "name": "stdout",
          "text": [
            "186.66666666666669\n"
          ]
        }
      ]
    }
  ]
}